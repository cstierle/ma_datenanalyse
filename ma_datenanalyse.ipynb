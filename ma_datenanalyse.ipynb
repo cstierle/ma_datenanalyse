{
 "cells": [
  {
   "cell_type": "markdown",
   "source": [
    "# Datenanalyse\n",
    "\n",
    "## Pakete importieren\n"
   ],
   "metadata": {
    "collapsed": false
   }
  },
  {
   "cell_type": "code",
   "execution_count": 6,
   "outputs": [],
   "source": [
    "import pandas as pd\n",
    "import numpy as np\n"
   ],
   "metadata": {
    "collapsed": false,
    "pycharm": {
     "name": "#%%\n",
     "is_executing": false
    }
   }
  },
  {
   "cell_type": "markdown",
   "source": [
    "## Daten einlesen\n"
   ],
   "metadata": {
    "collapsed": false,
    "pycharm": {
     "name": "#%% md\n"
    }
   }
  },
  {
   "cell_type": "code",
   "execution_count": 7,
   "outputs": [],
   "source": [
    "df = pd.read_excel('190124_Tabelle_Klusadaten-bereinigt.xlsx',sheet_name='Projekte')\n"
   ],
   "metadata": {
    "collapsed": false,
    "pycharm": {
     "name": "#%%\n",
     "is_executing": false
    }
   }
  },
  {
   "cell_type": "markdown",
   "source": [
    "## Daten teasern\n"
   ],
   "metadata": {
    "collapsed": false
   }
  },
  {
   "cell_type": "code",
   "execution_count": 8,
   "outputs": [
    {
     "data": {
      "text/plain": "       Projekt-Code  Plan Dauer (Geplanter Endtermin - Geplanter Starttermin)  \\\ncount  2.624000e+03                                        2709.000000          \nmean   1.569844e+07                                         758.295681          \nstd    4.258856e+06                                         893.453504          \nmin    6.696000e+03                                           0.000000          \n25%    1.608027e+07                                         221.000000          \n50%    1.703005e+07                                         431.000000          \n75%    1.709000e+07                                         994.000000          \nmax    1.811011e+07                                        8410.000000          \n\n       Ist-Dauer (zuletzt genehmigt)  Verzug Startdatum (Tage)  \\\ncount                    1885.000000               2709.000000   \nmean                      593.987268                  0.445183   \nstd                       820.807697                 25.843461   \nmin                         0.000000               -221.000000   \n25%                        11.000000                  0.000000   \n50%                       304.000000                  0.000000   \n75%                       837.000000                  0.000000   \nmax                      5967.000000               1128.000000   \n\n       Differenz Plandauer zu Dauer zuletzt genehmigt  Start - RG1 (Plan)  \\\ncount                                     1885.000000          688.000000   \nmean                                      -125.357560           63.959302   \nstd                                        424.504026          155.373724   \nmin                                      -5153.000000            0.000000   \n25%                                        -94.000000            2.000000   \n50%                                          0.000000           18.000000   \n75%                                          0.000000           57.500000   \nmax                                        838.000000         1387.000000   \n\n       RG1-RG2 (Plan)  RG2-RG3 (Plan)  RG3-RG4 (Plan)  RG4-RG5 (Plan)  ...  \\\ncount      683.000000      687.000000      692.000000     1103.000000  ...   \nmean        44.140556       88.614265      100.644509      140.070716  ...   \nstd         89.298032      140.794004      159.352745      184.469329  ...   \nmin          0.000000        0.000000        0.000000        0.000000  ...   \n25%          3.000000        7.000000       14.000000       21.000000  ...   \n50%         15.000000       39.000000       55.000000       86.000000  ...   \n75%         42.000000      114.000000      134.500000      185.500000  ...   \nmax       1017.000000     1833.000000     1827.000000     1727.000000  ...   \n\n       ZV Ziel laufender Aufwand p.a. / Target ongoing expenses p.a.: 3  \\\ncount                                       1.460000e+02                  \nmean                                        6.917936e+05                  \nstd                                         1.895139e+06                  \nmin                                         0.000000e+00                  \n25%                                         1.000000e-02                  \n50%                                         1.770000e+04                  \n75%                                         4.950000e+05                  \nmax                                         1.790000e+07                  \n\n       ZV Ziel Betriebskosten p.a. / Target operational costs p.a.: 3  \\\ncount                                       1.680000e+02                \nmean                                        5.268300e+05                \nstd                                         1.707727e+06                \nmin                                         0.000000e+00                \n25%                                         1.000000e-02                \n50%                                         3.450000e+04                \n75%                                         3.356250e+05                \nmax                                         1.790000e+07                \n\n       ZV Ziel Miete p.a. / Target gross lease p.a.: 3  \\\ncount                                     2.600000e+01   \nmean                                      1.524087e+06   \nstd                                       1.455427e+06   \nmin                                       0.000000e+00   \n25%                                       2.727500e+05   \n50%                                       1.420000e+06   \n75%                                       2.224244e+06   \nmax                                       5.811331e+06   \n\n       ZV Mietdauer / Term of lease (a): 3  \\\ncount                            44.000000   \nmean                             17.191364   \nstd                              41.259877   \nmin                               0.000000   \n25%                               5.000000   \n50%                              10.000000   \n75%                              10.000000   \nmax                             224.000000   \n\n       ZV Brutto Miete kumuliert / Target gross lease costs total: 3  \\\ncount                                       4.400000e+01               \nmean                                        1.851431e+07               \nstd                                         3.130660e+07               \nmin                                         0.000000e+00               \n25%                                         2.145352e+06               \n50%                                         1.071500e+07               \n75%                                         1.997142e+07               \nmax                                         1.820000e+08               \n\n       ZV Ziel Personal / Target Headcount: 3  \\\ncount                                     1.0   \nmean                                      0.0   \nstd                                       NaN   \nmin                                       0.0   \n25%                                       0.0   \n50%                                       0.0   \n75%                                       0.0   \nmax                                       0.0   \n\n       NUTZUNGSDAUER / ECONOMIC LIFE (a): 3  \\\ncount                             17.000000   \nmean                              13.311765   \nstd                                9.785952   \nmin                                1.300000   \n25%                                5.000000   \n50%                               10.000000   \n75%                               20.000000   \nmax                               35.000000   \n\n       NACHHALTIGKEITSWERT / SUSTAINABILITY INDEX (%): 3  \\\ncount                                          96.000000   \nmean                                           63.729167   \nstd                                             7.416169   \nmin                                            12.000000   \n25%                                            60.000000   \n50%                                            65.000000   \n75%                                            65.000000   \nmax                                            94.000000   \n\n       Prozentuale Einhaltung Plan / Percentual Execution Plan (PEP;0-100%;weekly avg.): 3  \\\ncount                                           6.000000                                     \nmean                                           91.333333                                     \nstd                                            13.559744                                     \nmin                                            65.000000                                     \n25%                                            91.250000                                     \n50%                                            96.000000                                     \n75%                                           100.000000                                     \nmax                                           100.000000                                     \n\n       BBP Zielwert Einmalaufwand / Target Value one-time expense: 3.1  \ncount                                       3.000000e+00                \nmean                                        3.899077e+06                \nstd                                         6.503869e+06                \nmin                                         1.000000e-02                \n25%                                         1.450000e+05                \n50%                                         2.900000e+05                \n75%                                         5.848616e+06                \nmax                                         1.140723e+07                \n\n[8 rows x 353 columns]",
      "text/html": "<div>\n<style scoped>\n    .dataframe tbody tr th:only-of-type {\n        vertical-align: middle;\n    }\n\n    .dataframe tbody tr th {\n        vertical-align: top;\n    }\n\n    .dataframe thead th {\n        text-align: right;\n    }\n</style>\n<table border=\"1\" class=\"dataframe\">\n  <thead>\n    <tr style=\"text-align: right;\">\n      <th></th>\n      <th>Projekt-Code</th>\n      <th>Plan Dauer (Geplanter Endtermin - Geplanter Starttermin)</th>\n      <th>Ist-Dauer (zuletzt genehmigt)</th>\n      <th>Verzug Startdatum (Tage)</th>\n      <th>Differenz Plandauer zu Dauer zuletzt genehmigt</th>\n      <th>Start - RG1 (Plan)</th>\n      <th>RG1-RG2 (Plan)</th>\n      <th>RG2-RG3 (Plan)</th>\n      <th>RG3-RG4 (Plan)</th>\n      <th>RG4-RG5 (Plan)</th>\n      <th>...</th>\n      <th>ZV Ziel laufender Aufwand p.a. / Target ongoing expenses p.a.: 3</th>\n      <th>ZV Ziel Betriebskosten p.a. / Target operational costs p.a.: 3</th>\n      <th>ZV Ziel Miete p.a. / Target gross lease p.a.: 3</th>\n      <th>ZV Mietdauer / Term of lease (a): 3</th>\n      <th>ZV Brutto Miete kumuliert / Target gross lease costs total: 3</th>\n      <th>ZV Ziel Personal / Target Headcount: 3</th>\n      <th>NUTZUNGSDAUER / ECONOMIC LIFE (a): 3</th>\n      <th>NACHHALTIGKEITSWERT / SUSTAINABILITY INDEX (%): 3</th>\n      <th>Prozentuale Einhaltung Plan / Percentual Execution Plan (PEP;0-100%;weekly avg.): 3</th>\n      <th>BBP Zielwert Einmalaufwand / Target Value one-time expense: 3.1</th>\n    </tr>\n  </thead>\n  <tbody>\n    <tr>\n      <th>count</th>\n      <td>2.624000e+03</td>\n      <td>2709.000000</td>\n      <td>1885.000000</td>\n      <td>2709.000000</td>\n      <td>1885.000000</td>\n      <td>688.000000</td>\n      <td>683.000000</td>\n      <td>687.000000</td>\n      <td>692.000000</td>\n      <td>1103.000000</td>\n      <td>...</td>\n      <td>1.460000e+02</td>\n      <td>1.680000e+02</td>\n      <td>2.600000e+01</td>\n      <td>44.000000</td>\n      <td>4.400000e+01</td>\n      <td>1.0</td>\n      <td>17.000000</td>\n      <td>96.000000</td>\n      <td>6.000000</td>\n      <td>3.000000e+00</td>\n    </tr>\n    <tr>\n      <th>mean</th>\n      <td>1.569844e+07</td>\n      <td>758.295681</td>\n      <td>593.987268</td>\n      <td>0.445183</td>\n      <td>-125.357560</td>\n      <td>63.959302</td>\n      <td>44.140556</td>\n      <td>88.614265</td>\n      <td>100.644509</td>\n      <td>140.070716</td>\n      <td>...</td>\n      <td>6.917936e+05</td>\n      <td>5.268300e+05</td>\n      <td>1.524087e+06</td>\n      <td>17.191364</td>\n      <td>1.851431e+07</td>\n      <td>0.0</td>\n      <td>13.311765</td>\n      <td>63.729167</td>\n      <td>91.333333</td>\n      <td>3.899077e+06</td>\n    </tr>\n    <tr>\n      <th>std</th>\n      <td>4.258856e+06</td>\n      <td>893.453504</td>\n      <td>820.807697</td>\n      <td>25.843461</td>\n      <td>424.504026</td>\n      <td>155.373724</td>\n      <td>89.298032</td>\n      <td>140.794004</td>\n      <td>159.352745</td>\n      <td>184.469329</td>\n      <td>...</td>\n      <td>1.895139e+06</td>\n      <td>1.707727e+06</td>\n      <td>1.455427e+06</td>\n      <td>41.259877</td>\n      <td>3.130660e+07</td>\n      <td>NaN</td>\n      <td>9.785952</td>\n      <td>7.416169</td>\n      <td>13.559744</td>\n      <td>6.503869e+06</td>\n    </tr>\n    <tr>\n      <th>min</th>\n      <td>6.696000e+03</td>\n      <td>0.000000</td>\n      <td>0.000000</td>\n      <td>-221.000000</td>\n      <td>-5153.000000</td>\n      <td>0.000000</td>\n      <td>0.000000</td>\n      <td>0.000000</td>\n      <td>0.000000</td>\n      <td>0.000000</td>\n      <td>...</td>\n      <td>0.000000e+00</td>\n      <td>0.000000e+00</td>\n      <td>0.000000e+00</td>\n      <td>0.000000</td>\n      <td>0.000000e+00</td>\n      <td>0.0</td>\n      <td>1.300000</td>\n      <td>12.000000</td>\n      <td>65.000000</td>\n      <td>1.000000e-02</td>\n    </tr>\n    <tr>\n      <th>25%</th>\n      <td>1.608027e+07</td>\n      <td>221.000000</td>\n      <td>11.000000</td>\n      <td>0.000000</td>\n      <td>-94.000000</td>\n      <td>2.000000</td>\n      <td>3.000000</td>\n      <td>7.000000</td>\n      <td>14.000000</td>\n      <td>21.000000</td>\n      <td>...</td>\n      <td>1.000000e-02</td>\n      <td>1.000000e-02</td>\n      <td>2.727500e+05</td>\n      <td>5.000000</td>\n      <td>2.145352e+06</td>\n      <td>0.0</td>\n      <td>5.000000</td>\n      <td>60.000000</td>\n      <td>91.250000</td>\n      <td>1.450000e+05</td>\n    </tr>\n    <tr>\n      <th>50%</th>\n      <td>1.703005e+07</td>\n      <td>431.000000</td>\n      <td>304.000000</td>\n      <td>0.000000</td>\n      <td>0.000000</td>\n      <td>18.000000</td>\n      <td>15.000000</td>\n      <td>39.000000</td>\n      <td>55.000000</td>\n      <td>86.000000</td>\n      <td>...</td>\n      <td>1.770000e+04</td>\n      <td>3.450000e+04</td>\n      <td>1.420000e+06</td>\n      <td>10.000000</td>\n      <td>1.071500e+07</td>\n      <td>0.0</td>\n      <td>10.000000</td>\n      <td>65.000000</td>\n      <td>96.000000</td>\n      <td>2.900000e+05</td>\n    </tr>\n    <tr>\n      <th>75%</th>\n      <td>1.709000e+07</td>\n      <td>994.000000</td>\n      <td>837.000000</td>\n      <td>0.000000</td>\n      <td>0.000000</td>\n      <td>57.500000</td>\n      <td>42.000000</td>\n      <td>114.000000</td>\n      <td>134.500000</td>\n      <td>185.500000</td>\n      <td>...</td>\n      <td>4.950000e+05</td>\n      <td>3.356250e+05</td>\n      <td>2.224244e+06</td>\n      <td>10.000000</td>\n      <td>1.997142e+07</td>\n      <td>0.0</td>\n      <td>20.000000</td>\n      <td>65.000000</td>\n      <td>100.000000</td>\n      <td>5.848616e+06</td>\n    </tr>\n    <tr>\n      <th>max</th>\n      <td>1.811011e+07</td>\n      <td>8410.000000</td>\n      <td>5967.000000</td>\n      <td>1128.000000</td>\n      <td>838.000000</td>\n      <td>1387.000000</td>\n      <td>1017.000000</td>\n      <td>1833.000000</td>\n      <td>1827.000000</td>\n      <td>1727.000000</td>\n      <td>...</td>\n      <td>1.790000e+07</td>\n      <td>1.790000e+07</td>\n      <td>5.811331e+06</td>\n      <td>224.000000</td>\n      <td>1.820000e+08</td>\n      <td>0.0</td>\n      <td>35.000000</td>\n      <td>94.000000</td>\n      <td>100.000000</td>\n      <td>1.140723e+07</td>\n    </tr>\n  </tbody>\n</table>\n<p>8 rows × 353 columns</p>\n</div>"
     },
     "metadata": {},
     "output_type": "execute_result",
     "execution_count": 8
    }
   ],
   "source": [
    "df.describe()\n"
   ],
   "metadata": {
    "collapsed": false,
    "pycharm": {
     "name": "#%%\n",
     "is_executing": false
    }
   }
  },
  {
   "cell_type": "code",
   "execution_count": null,
   "outputs": [],
   "source": [
    "\n"
   ],
   "metadata": {
    "collapsed": false,
    "pycharm": {
     "name": "#%%\n"
    }
   }
  }
 ],
 "metadata": {
  "language_info": {
   "codemirror_mode": {
    "name": "ipython",
    "version": 2
   },
   "file_extension": ".py",
   "mimetype": "text/x-python",
   "name": "python",
   "nbconvert_exporter": "python",
   "pygments_lexer": "ipython2",
   "version": "2.7.6"
  },
  "kernelspec": {
   "name": "pycharm-f953af44",
   "language": "python",
   "display_name": "PyCharm (ma_datenanalyse)"
  },
  "pycharm": {
   "stem_cell": {
    "cell_type": "raw",
    "source": [],
    "metadata": {
     "collapsed": false
    }
   }
  }
 },
 "nbformat": 4,
 "nbformat_minor": 0
}